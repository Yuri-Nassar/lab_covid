{
 "cells": [
  {
   "cell_type": "markdown",
   "metadata": {},
   "source": [
    "### Algumas coisas bem no manual."
   ]
  },
  {
   "cell_type": "markdown",
   "metadata": {},
   "source": [
    "Exemplo de dicionário"
   ]
  },
  {
   "cell_type": "code",
   "execution_count": 10,
   "metadata": {},
   "outputs": [],
   "source": [
    "# attribute_dict = {0:\"Febre\",1:\"Garganta\",2:\"Asma\",3:\"Sexo_m\",4:\"Sexo_f\",5:\"Obito\",6:\"Recuperado\"}\n",
    "attribute_dict = {0:\"Febre_sim\",1:\"Febre_nao\",2:\"Garganta_sim\",3:\"Garganta_nao\",4:\"Asma_sim\",5:\"Asma_nao\",\n",
    "                  6:\"Sexo_m\",7:\"Sexo_f\",8:\"Obito\",9:\"Recuperado\"}"
   ]
  },
  {
   "cell_type": "markdown",
   "metadata": {},
   "source": [
    "Exemplo do formato fimi (nome_arquivo.dat).\n",
    "\n",
    "Cada linha corresponde a uma linha não nula na matriz binária e o valor e é o índece da coluna presente na linha."
   ]
  },
  {
   "cell_type": "markdown",
   "metadata": {},
   "source": [
    "0 2 5 49 7 32 56 84 21\n",
    "\n",
    "4 8 3 9 12\n",
    "\n",
    "65 87 12 54 98\n",
    "\n",
    "0 2 5 21\n",
    "\n",
    "...\n",
    "\n",
    "..."
   ]
  },
  {
   "cell_type": "markdown",
   "metadata": {},
   "source": [
    "Output do clustering para os atributos. Cada posição é um cluster (clusters[0])."
   ]
  },
  {
   "cell_type": "code",
   "execution_count": 11,
   "metadata": {},
   "outputs": [],
   "source": [
    "clusters = [\n",
    "    \"0 2 4 6 9\",\n",
    "    \"1 3 5 9\",\n",
    "]"
   ]
  },
  {
   "cell_type": "code",
   "execution_count": 12,
   "metadata": {},
   "outputs": [
    {
     "name": "stdout",
     "output_type": "stream",
     "text": [
      "### Atributos presentes em cada cluster: \n",
      "Cluster:  0\n",
      "Position: 0, Content: Febre_sim\n",
      "Position: 2, Content: Garganta_sim\n",
      "Position: 4, Content: Asma_sim\n",
      "Position: 6, Content: Sexo_m\n",
      "Position: 9, Content: Recuperado\n",
      " \n",
      "Cluster:  1\n",
      "Position: 1, Content: Febre_nao\n",
      "Position: 3, Content: Garganta_nao\n",
      "Position: 5, Content: Asma_nao\n",
      "Position: 9, Content: Recuperado\n",
      " \n"
     ]
    }
   ],
   "source": [
    "print(\"### Atributos presentes em cada cluster: \")\n",
    "for i in range(len(clusters)):\n",
    "    print(\"Cluster: \",i)\n",
    "    for att in clusters[i].split(\" \"):\n",
    "        att = int(att)\n",
    "        print(\"Position: \"+str(att)+\", Content: \"+str(attribute_dict[int(att)]))\n",
    "    print(\" \")"
   ]
  }
 ],
 "metadata": {
  "kernelspec": {
   "display_name": "Python 3",
   "language": "python",
   "name": "python3"
  },
  "language_info": {
   "codemirror_mode": {
    "name": "ipython",
    "version": 3
   },
   "file_extension": ".py",
   "mimetype": "text/x-python",
   "name": "python",
   "nbconvert_exporter": "python",
   "pygments_lexer": "ipython3",
   "version": "3.7.1"
  }
 },
 "nbformat": 4,
 "nbformat_minor": 2
}
