{
 "cells": [
  {
   "cell_type": "code",
   "execution_count": 8,
   "metadata": {
    "executionInfo": {
     "elapsed": 962,
     "status": "ok",
     "timestamp": 1601510867245,
     "user": {
      "displayName": "Leonardo Nunes",
      "photoUrl": "https://lh3.googleusercontent.com/a-/AOh14GhKqaYTRJ_Ypghz8sEyulGVoqkiIWzYPxawtqg=s64",
      "userId": "08647340071524651515"
     },
     "user_tz": 180
    },
    "id": "XbPDzHOrc3ME"
   },
   "outputs": [],
   "source": [
    "import pandas as pd\n",
    "import numpy as np\n",
    "import matplotlib.pyplot as plt\n",
    "%matplotlib inline\n",
    "import re"
   ]
  },
  {
   "cell_type": "code",
   "execution_count": 19,
   "metadata": {
    "executionInfo": {
     "elapsed": 525,
     "status": "ok",
     "timestamp": 1601510868207,
     "user": {
      "displayName": "Leonardo Nunes",
      "photoUrl": "https://lh3.googleusercontent.com/a-/AOh14GhKqaYTRJ_Ypghz8sEyulGVoqkiIWzYPxawtqg=s64",
      "userId": "08647340071524651515"
     },
     "user_tz": 180
    },
    "id": "65PaawDZdImD"
   },
   "outputs": [
    {
     "ename": "FileNotFoundError",
     "evalue": "[Errno 2] File b'header_binary_matrix.csv' does not exist: b'header_binary_matrix.csv'",
     "output_type": "error",
     "traceback": [
      "\u001b[1;31m---------------------------------------------------------------------------\u001b[0m",
      "\u001b[1;31mFileNotFoundError\u001b[0m                         Traceback (most recent call last)",
      "\u001b[1;32m<ipython-input-19-4904e4d1d8a6>\u001b[0m in \u001b[0;36m<module>\u001b[1;34m\u001b[0m\n\u001b[1;32m----> 1\u001b[1;33m \u001b[0mdf\u001b[0m \u001b[1;33m=\u001b[0m \u001b[0mpd\u001b[0m\u001b[1;33m.\u001b[0m\u001b[0mread_csv\u001b[0m\u001b[1;33m(\u001b[0m\u001b[1;34m\"header_binary_matrix.csv\"\u001b[0m\u001b[1;33m)\u001b[0m\u001b[1;33m\u001b[0m\u001b[1;33m\u001b[0m\u001b[0m\n\u001b[0m\u001b[0;32m      2\u001b[0m \u001b[0mlist_df\u001b[0m \u001b[1;33m=\u001b[0m \u001b[0mdf\u001b[0m\u001b[1;33m.\u001b[0m\u001b[0mcolumns\u001b[0m\u001b[1;33m.\u001b[0m\u001b[0mtolist\u001b[0m\u001b[1;33m(\u001b[0m\u001b[1;33m)\u001b[0m\u001b[1;33m\u001b[0m\u001b[1;33m\u001b[0m\u001b[0m\n",
      "\u001b[1;32mC:\\ProgramData\\Anaconda3\\lib\\site-packages\\pandas\\io\\parsers.py\u001b[0m in \u001b[0;36mparser_f\u001b[1;34m(filepath_or_buffer, sep, delimiter, header, names, index_col, usecols, squeeze, prefix, mangle_dupe_cols, dtype, engine, converters, true_values, false_values, skipinitialspace, skiprows, skipfooter, nrows, na_values, keep_default_na, na_filter, verbose, skip_blank_lines, parse_dates, infer_datetime_format, keep_date_col, date_parser, dayfirst, cache_dates, iterator, chunksize, compression, thousands, decimal, lineterminator, quotechar, quoting, doublequote, escapechar, comment, encoding, dialect, error_bad_lines, warn_bad_lines, delim_whitespace, low_memory, memory_map, float_precision)\u001b[0m\n\u001b[0;32m    683\u001b[0m         )\n\u001b[0;32m    684\u001b[0m \u001b[1;33m\u001b[0m\u001b[0m\n\u001b[1;32m--> 685\u001b[1;33m         \u001b[1;32mreturn\u001b[0m \u001b[0m_read\u001b[0m\u001b[1;33m(\u001b[0m\u001b[0mfilepath_or_buffer\u001b[0m\u001b[1;33m,\u001b[0m \u001b[0mkwds\u001b[0m\u001b[1;33m)\u001b[0m\u001b[1;33m\u001b[0m\u001b[1;33m\u001b[0m\u001b[0m\n\u001b[0m\u001b[0;32m    686\u001b[0m \u001b[1;33m\u001b[0m\u001b[0m\n\u001b[0;32m    687\u001b[0m     \u001b[0mparser_f\u001b[0m\u001b[1;33m.\u001b[0m\u001b[0m__name__\u001b[0m \u001b[1;33m=\u001b[0m \u001b[0mname\u001b[0m\u001b[1;33m\u001b[0m\u001b[1;33m\u001b[0m\u001b[0m\n",
      "\u001b[1;32mC:\\ProgramData\\Anaconda3\\lib\\site-packages\\pandas\\io\\parsers.py\u001b[0m in \u001b[0;36m_read\u001b[1;34m(filepath_or_buffer, kwds)\u001b[0m\n\u001b[0;32m    455\u001b[0m \u001b[1;33m\u001b[0m\u001b[0m\n\u001b[0;32m    456\u001b[0m     \u001b[1;31m# Create the parser.\u001b[0m\u001b[1;33m\u001b[0m\u001b[1;33m\u001b[0m\u001b[1;33m\u001b[0m\u001b[0m\n\u001b[1;32m--> 457\u001b[1;33m     \u001b[0mparser\u001b[0m \u001b[1;33m=\u001b[0m \u001b[0mTextFileReader\u001b[0m\u001b[1;33m(\u001b[0m\u001b[0mfp_or_buf\u001b[0m\u001b[1;33m,\u001b[0m \u001b[1;33m**\u001b[0m\u001b[0mkwds\u001b[0m\u001b[1;33m)\u001b[0m\u001b[1;33m\u001b[0m\u001b[1;33m\u001b[0m\u001b[0m\n\u001b[0m\u001b[0;32m    458\u001b[0m \u001b[1;33m\u001b[0m\u001b[0m\n\u001b[0;32m    459\u001b[0m     \u001b[1;32mif\u001b[0m \u001b[0mchunksize\u001b[0m \u001b[1;32mor\u001b[0m \u001b[0miterator\u001b[0m\u001b[1;33m:\u001b[0m\u001b[1;33m\u001b[0m\u001b[1;33m\u001b[0m\u001b[0m\n",
      "\u001b[1;32mC:\\ProgramData\\Anaconda3\\lib\\site-packages\\pandas\\io\\parsers.py\u001b[0m in \u001b[0;36m__init__\u001b[1;34m(self, f, engine, **kwds)\u001b[0m\n\u001b[0;32m    893\u001b[0m             \u001b[0mself\u001b[0m\u001b[1;33m.\u001b[0m\u001b[0moptions\u001b[0m\u001b[1;33m[\u001b[0m\u001b[1;34m\"has_index_names\"\u001b[0m\u001b[1;33m]\u001b[0m \u001b[1;33m=\u001b[0m \u001b[0mkwds\u001b[0m\u001b[1;33m[\u001b[0m\u001b[1;34m\"has_index_names\"\u001b[0m\u001b[1;33m]\u001b[0m\u001b[1;33m\u001b[0m\u001b[1;33m\u001b[0m\u001b[0m\n\u001b[0;32m    894\u001b[0m \u001b[1;33m\u001b[0m\u001b[0m\n\u001b[1;32m--> 895\u001b[1;33m         \u001b[0mself\u001b[0m\u001b[1;33m.\u001b[0m\u001b[0m_make_engine\u001b[0m\u001b[1;33m(\u001b[0m\u001b[0mself\u001b[0m\u001b[1;33m.\u001b[0m\u001b[0mengine\u001b[0m\u001b[1;33m)\u001b[0m\u001b[1;33m\u001b[0m\u001b[1;33m\u001b[0m\u001b[0m\n\u001b[0m\u001b[0;32m    896\u001b[0m \u001b[1;33m\u001b[0m\u001b[0m\n\u001b[0;32m    897\u001b[0m     \u001b[1;32mdef\u001b[0m \u001b[0mclose\u001b[0m\u001b[1;33m(\u001b[0m\u001b[0mself\u001b[0m\u001b[1;33m)\u001b[0m\u001b[1;33m:\u001b[0m\u001b[1;33m\u001b[0m\u001b[1;33m\u001b[0m\u001b[0m\n",
      "\u001b[1;32mC:\\ProgramData\\Anaconda3\\lib\\site-packages\\pandas\\io\\parsers.py\u001b[0m in \u001b[0;36m_make_engine\u001b[1;34m(self, engine)\u001b[0m\n\u001b[0;32m   1133\u001b[0m     \u001b[1;32mdef\u001b[0m \u001b[0m_make_engine\u001b[0m\u001b[1;33m(\u001b[0m\u001b[0mself\u001b[0m\u001b[1;33m,\u001b[0m \u001b[0mengine\u001b[0m\u001b[1;33m=\u001b[0m\u001b[1;34m\"c\"\u001b[0m\u001b[1;33m)\u001b[0m\u001b[1;33m:\u001b[0m\u001b[1;33m\u001b[0m\u001b[1;33m\u001b[0m\u001b[0m\n\u001b[0;32m   1134\u001b[0m         \u001b[1;32mif\u001b[0m \u001b[0mengine\u001b[0m \u001b[1;33m==\u001b[0m \u001b[1;34m\"c\"\u001b[0m\u001b[1;33m:\u001b[0m\u001b[1;33m\u001b[0m\u001b[1;33m\u001b[0m\u001b[0m\n\u001b[1;32m-> 1135\u001b[1;33m             \u001b[0mself\u001b[0m\u001b[1;33m.\u001b[0m\u001b[0m_engine\u001b[0m \u001b[1;33m=\u001b[0m \u001b[0mCParserWrapper\u001b[0m\u001b[1;33m(\u001b[0m\u001b[0mself\u001b[0m\u001b[1;33m.\u001b[0m\u001b[0mf\u001b[0m\u001b[1;33m,\u001b[0m \u001b[1;33m**\u001b[0m\u001b[0mself\u001b[0m\u001b[1;33m.\u001b[0m\u001b[0moptions\u001b[0m\u001b[1;33m)\u001b[0m\u001b[1;33m\u001b[0m\u001b[1;33m\u001b[0m\u001b[0m\n\u001b[0m\u001b[0;32m   1136\u001b[0m         \u001b[1;32melse\u001b[0m\u001b[1;33m:\u001b[0m\u001b[1;33m\u001b[0m\u001b[1;33m\u001b[0m\u001b[0m\n\u001b[0;32m   1137\u001b[0m             \u001b[1;32mif\u001b[0m \u001b[0mengine\u001b[0m \u001b[1;33m==\u001b[0m \u001b[1;34m\"python\"\u001b[0m\u001b[1;33m:\u001b[0m\u001b[1;33m\u001b[0m\u001b[1;33m\u001b[0m\u001b[0m\n",
      "\u001b[1;32mC:\\ProgramData\\Anaconda3\\lib\\site-packages\\pandas\\io\\parsers.py\u001b[0m in \u001b[0;36m__init__\u001b[1;34m(self, src, **kwds)\u001b[0m\n\u001b[0;32m   1915\u001b[0m         \u001b[0mkwds\u001b[0m\u001b[1;33m[\u001b[0m\u001b[1;34m\"usecols\"\u001b[0m\u001b[1;33m]\u001b[0m \u001b[1;33m=\u001b[0m \u001b[0mself\u001b[0m\u001b[1;33m.\u001b[0m\u001b[0musecols\u001b[0m\u001b[1;33m\u001b[0m\u001b[1;33m\u001b[0m\u001b[0m\n\u001b[0;32m   1916\u001b[0m \u001b[1;33m\u001b[0m\u001b[0m\n\u001b[1;32m-> 1917\u001b[1;33m         \u001b[0mself\u001b[0m\u001b[1;33m.\u001b[0m\u001b[0m_reader\u001b[0m \u001b[1;33m=\u001b[0m \u001b[0mparsers\u001b[0m\u001b[1;33m.\u001b[0m\u001b[0mTextReader\u001b[0m\u001b[1;33m(\u001b[0m\u001b[0msrc\u001b[0m\u001b[1;33m,\u001b[0m \u001b[1;33m**\u001b[0m\u001b[0mkwds\u001b[0m\u001b[1;33m)\u001b[0m\u001b[1;33m\u001b[0m\u001b[1;33m\u001b[0m\u001b[0m\n\u001b[0m\u001b[0;32m   1918\u001b[0m         \u001b[0mself\u001b[0m\u001b[1;33m.\u001b[0m\u001b[0munnamed_cols\u001b[0m \u001b[1;33m=\u001b[0m \u001b[0mself\u001b[0m\u001b[1;33m.\u001b[0m\u001b[0m_reader\u001b[0m\u001b[1;33m.\u001b[0m\u001b[0munnamed_cols\u001b[0m\u001b[1;33m\u001b[0m\u001b[1;33m\u001b[0m\u001b[0m\n\u001b[0;32m   1919\u001b[0m \u001b[1;33m\u001b[0m\u001b[0m\n",
      "\u001b[1;32mpandas\\_libs\\parsers.pyx\u001b[0m in \u001b[0;36mpandas._libs.parsers.TextReader.__cinit__\u001b[1;34m()\u001b[0m\n",
      "\u001b[1;32mpandas\\_libs\\parsers.pyx\u001b[0m in \u001b[0;36mpandas._libs.parsers.TextReader._setup_parser_source\u001b[1;34m()\u001b[0m\n",
      "\u001b[1;31mFileNotFoundError\u001b[0m: [Errno 2] File b'header_binary_matrix.csv' does not exist: b'header_binary_matrix.csv'"
     ]
    }
   ],
   "source": [
    "df = pd.read_csv(\"header_binary_matrix.csv\")\n",
    "list_df = df.columns.tolist()"
   ]
  },
  {
   "cell_type": "code",
   "execution_count": 11,
   "metadata": {
    "executionInfo": {
     "elapsed": 834,
     "status": "ok",
     "timestamp": 1601510921194,
     "user": {
      "displayName": "Leonardo Nunes",
      "photoUrl": "https://lh3.googleusercontent.com/a-/AOh14GhKqaYTRJ_Ypghz8sEyulGVoqkiIWzYPxawtqg=s64",
      "userId": "08647340071524651515"
     },
     "user_tz": 180
    },
    "id": "5V65I9Azdu15"
   },
   "outputs": [],
   "source": [
    "dic = {}\n",
    "\n",
    "for i in range(len(list_df)):\n",
    "  dic[i] = list_df[i]"
   ]
  },
  {
   "cell_type": "code",
   "execution_count": 12,
   "metadata": {
    "colab": {
     "base_uri": "https://localhost:8080/",
     "height": 57
    },
    "executionInfo": {
     "elapsed": 931,
     "status": "ok",
     "timestamp": 1601510924379,
     "user": {
      "displayName": "Leonardo Nunes",
      "photoUrl": "https://lh3.googleusercontent.com/a-/AOh14GhKqaYTRJ_Ypghz8sEyulGVoqkiIWzYPxawtqg=s64",
      "userId": "08647340071524651515"
     },
     "user_tz": 180
    },
    "id": "xRDa3GQffGEo",
    "outputId": "2fc91508-b465-4207-bf61-e811860b516a"
   },
   "outputs": [
    {
     "name": "stdout",
     "output_type": "stream",
     "text": [
      "{0: 'SexF', 1: 'SexM', 2: 'Bebe', 3: 'Crianca', 4: 'Jovem', 5: 'Adulto', 6: 'Idoso', 7: 'Muito_idoso', 8: 'Conf_Fev', 9: 'Conf_Mar', 10: 'Conf_Abr', 11: 'Conf_Mai', 12: 'Conf_Jun', 13: 'Conf_Jul', 14: 'Conf_Ago', 15: 'Conf_Set', 16: 'Sint_Fev', 17: 'Sint_Mar', 18: 'Sint_Abr', 19: 'Sint_Mai', 20: 'Sint_Jun', 21: 'Sint_Jul', 22: 'Sint_Ago', 23: 'Sint_Set', 24: 'Evo_Rec', 25: 'Evo_Obito', 26: 'Evo_Aco', 27: 'Hosp_S', 28: 'Hosp_N', 29: 'Febre_S', 30: 'Febre_N', 31: 'Tosse_S', 32: 'Tosse_N', 33: 'Garganta_S', 34: 'Garganta_N', 35: 'Dispneia_S', 36: 'Dispneia_N', 37: 'Asma_S', 38: 'Asma_N', 39: 'DRespiratoria_S', 40: 'DRespiratoria_N', 41: 'DNeurologia_S', 42: 'DNeurologia_N', 43: 'Diabetes_S', 44: 'Diabetes_N', 45: 'Imunodef_S', 46: 'Imunodef_N', 47: 'DRenal_S', 48: 'DRenal_N', 49: 'DHepatica_S', 50: 'DHepatica_N', 51: 'DCardiaca_S', 52: 'DCardiaca_N', 53: 'Obesidade_S', 54: 'Obesidade_N'}\n"
     ]
    }
   ],
   "source": [
    "print(dic)"
   ]
  },
  {
   "cell_type": "code",
   "execution_count": 2,
   "metadata": {},
   "outputs": [],
   "source": [
    "my_dict = {0: 'SexF', 1: 'SexM', 2: 'Bebe', 3: 'Crianca', 4: 'Jovem', 5: 'Adulto', 6: 'Idoso', 7: 'Muito_idoso', \n",
    "           8: 'Conf_Fev', 9: 'Conf_Mar', 10: 'Conf_Abr', 11: 'Conf_Mai', 12: 'Conf_Jun', 13: 'Conf_Jul', 14: 'Conf_Ago', \n",
    "           15: 'Conf_Set', 16: 'Sint_Fev', 17: 'Sint_Mar', 18: 'Sint_Abr', 19: 'Sint_Mai', 20: 'Sint_Jun', 21: 'Sint_Jul', \n",
    "           22: 'Sint_Ago', 23: 'Sint_Set', 24: 'Evo_Rec', 25: 'Evo_Obito', 26: 'Evo_Aco', 27: 'Hosp_S', 28: 'Hosp_N', \n",
    "           29: 'Febre_S', 30: 'Febre_N', 31: 'Tosse_S', 32: 'Tosse_N', 33: 'Garganta_S', 34: 'Garganta_N', 35: 'Dispneia_S', \n",
    "           36: 'Dispneia_N', 37: 'Asma_S', 38: 'Asma_N', 39: 'DRespiratoria_S', 40: 'DRespiratoria_N', 41: 'DNeurologia_S', \n",
    "           42: 'DNeurologia_N', 43: 'Diabetes_S', 44: 'Diabetes_N', 45: 'Imunodef_S', 46: 'Imunodef_N', 47: 'DRenal_S', \n",
    "           48: 'DRenal_N', 49: 'DHepatica_S', 50: 'DHepatica_N', 51: 'DCardiaca_S', 52: 'DCardiaca_N', 53: 'Obesidade_S', \n",
    "           54: 'Obesidade_N'}"
   ]
  },
  {
   "cell_type": "markdown",
   "metadata": {},
   "source": [
    "### Analysis"
   ]
  },
  {
   "cell_type": "code",
   "execution_count": 38,
   "metadata": {},
   "outputs": [],
   "source": [
    "# file = \"./output_clustering/covid1_res_k2.txt\"\n",
    "# file = \"./output_clustering/covid1_res_k3.txt\"\n",
    "# file = \"./output_clustering/covid1_res_k4.txt\"\n",
    "# file = \"./output_clustering/covid1_res_k5.txt\"\n",
    "file = \"./output_clustering/covid1_res_k6.txt\"\n",
    "df_fimi = pd.read_csv(file, header=None, names=[\"transation\"])\n",
    "columnClusters,rowClusters = processDocument(df_fimi)\n",
    "del df_fimi"
   ]
  },
  {
   "cell_type": "code",
   "execution_count": 39,
   "metadata": {},
   "outputs": [
    {
     "name": "stdout",
     "output_type": "stream",
     "text": [
      "Cluster-1 (147385)\n",
      "Atributos: DHepatica_N, Asma_N, DNeurologia_N, DRenal_N, Obesidade_N, Imunodef_N, DRespiratoria_N, Diabetes_N, DCardiaca_N, Evo_Rec, Hosp_N, \n",
      "Sobreposição de OBJETOS em outros clusters.\n",
      "    Cluster 2: 31.07% (45794)\n",
      "    Cluster 3: 13.09% (19297)\n",
      "    Cluster 4: 32.92% (48513)\n",
      "    Cluster 5: 14.81% (21825)\n",
      "    Cluster 6: 15.33% (22591)\n",
      "\n",
      "\n",
      "Cluster-2 (46203)\n",
      "Atributos: Dispneia_N, Adulto, Garganta_N, Febre_N, Tosse_N, \n",
      "Sobreposição de OBJETOS em outros clusters.\n",
      "    Cluster 1: 99.11% (45794)\n",
      "    Cluster 3: 0.00% (0)\n",
      "    Cluster 4: 50.79% (23465)\n",
      "    Cluster 5: 14.99% (6926)\n",
      "    Cluster 6: 0.00% (0)\n",
      "\n",
      "\n",
      "Cluster-3 (19817)\n",
      "Atributos: Dispneia_N, SexF, Adulto, Tosse_S, \n",
      "Sobreposição de OBJETOS em outros clusters.\n",
      "    Cluster 1: 97.38% (19297)\n",
      "    Cluster 2: 0.00% (0)\n",
      "    Cluster 4: 0.00% (0)\n",
      "    Cluster 5: 27.95% (5539)\n",
      "    Cluster 6: 54.75% (10850)\n",
      "\n",
      "\n",
      "Cluster-4 (50340)\n",
      "Atributos: SexM, Garganta_N, Dispneia_N, \n",
      "Sobreposição de OBJETOS em outros clusters.\n",
      "    Cluster 1: 96.37% (48513)\n",
      "    Cluster 2: 46.61% (23465)\n",
      "    Cluster 3: 0.00% (0)\n",
      "    Cluster 5: 0.00% (0)\n",
      "    Cluster 6: 9.26% (4664)\n",
      "\n",
      "\n",
      "Cluster-5 (23468)\n",
      "Atributos: SexF, Conf_Ago, Sint_Ago, \n",
      "Sobreposição de OBJETOS em outros clusters.\n",
      "    Cluster 1: 93.00% (21825)\n",
      "    Cluster 2: 29.51% (6926)\n",
      "    Cluster 3: 23.60% (5539)\n",
      "    Cluster 4: 0.00% (0)\n",
      "    Cluster 6: 17.71% (4157)\n",
      "\n",
      "\n",
      "Cluster-6 (23726)\n",
      "Atributos: Febre_N, Adulto, Tosse_S, \n",
      "Sobreposição de OBJETOS em outros clusters.\n",
      "    Cluster 1: 95.22% (22591)\n",
      "    Cluster 2: 0.00% (0)\n",
      "    Cluster 3: 45.73% (10850)\n",
      "    Cluster 4: 19.66% (4664)\n",
      "    Cluster 5: 17.52% (4157)\n",
      "\n",
      "\n"
     ]
    }
   ],
   "source": [
    "check_result(columnClusters,rowClusters)"
   ]
  },
  {
   "cell_type": "markdown",
   "metadata": {},
   "source": [
    "## Co-clustering methods - scikit-learn\n",
    "1) https://scikit-learn.org/stable/modules/classes.html#module-sklearn.cluster\n",
    "\n",
    "2) https://scikit-learn.org/stable/modules/biclustering.html#biclustering"
   ]
  },
  {
   "cell_type": "code",
   "execution_count": 5,
   "metadata": {},
   "outputs": [
    {
     "name": "stdout",
     "output_type": "stream",
     "text": [
      "(91, 67)\n",
      "(91, 100)\n"
     ]
    },
    {
     "data": {
      "text/plain": [
       "Text(0.5, 1.05, 'Binary dataset for traditional methods')"
      ]
     },
     "execution_count": 5,
     "metadata": {},
     "output_type": "execute_result"
    },
    {
     "data": {
      "image/png": "[encoded data removed]",
      "text/plain": [
       "<Figure size 1008x576 with 2 Axes>"
      ]
     },
     "metadata": {
      "needs_background": "light"
     },
     "output_type": "display_data"
    }
   ],
   "source": [
    "file1 = \"Toy1_b4_binary_forcocluster.dat\"\n",
    "path1 = './input_datasets/'+file1\n",
    "file2 = \"Toy1_b4_binary_fortraditional.dat\"\n",
    "path2 = './input_datasets/'+file2\n",
    "\n",
    "df = pd.read_csv(path1,header=None)\n",
    "df2 = pd.read_csv(path2,header=None)\n",
    "data = df.values.copy()\n",
    "data2 = df2.values.copy()\n",
    "print(data.shape)\n",
    "print(data2.shape)\n",
    "\n",
    "fig , (ax1,ax2) = plt.subplots(1,2, figsize=(14,8))\n",
    "fig.figsize = (19,19)\n",
    "#plt.subplot(1,2,1)\n",
    "#plt.matshow(data, cmap=plt.cm.Blues)\n",
    "ax1.matshow(data, cmap=plt.cm.Blues,aspect=\"auto\")\n",
    "#plt.title(\"Binary dataset for co-clusters\")\n",
    "ax1.set_title(\"Binary dataset for co-clusters\")\n",
    "\n",
    "#plt.subplot(1,2,2)\n",
    "#plt.matshow(data2, cmap=plt.cm.Blues)\n",
    "ax2.matshow(data2, cmap=plt.cm.Blues,aspect=\"auto\")\n",
    "#plt.title(\"Binary dataset for traditional methods\")\n",
    "ax2.set_title(\"Binary dataset for traditional methods\")"
   ]
  },
  {
   "cell_type": "code",
   "execution_count": 6,
   "metadata": {},
   "outputs": [],
   "source": [
    "from sklearn.cluster.bicluster import SpectralCoclustering"
   ]
  },
  {
   "cell_type": "code",
   "execution_count": 9,
   "metadata": {},
   "outputs": [],
   "source": [
    "clusters = 7\n",
    "DhillonCocluster = SpectralCoclustering(n_clusters = clusters, random_state = 0)\n",
    "DhillonCocluster.fit(data)\n",
    "\n",
    "reconstructed_matrix = np.zeros(data.shape,dtype=int)\n",
    "for nc in range(clusters):\n",
    "    if len(DhillonCocluster.get_indices(nc)[0]) != 0 and len(DhillonCocluster.get_indices(nc)[1]) != 0:\n",
    "        for i in DhillonCocluster.get_indices(nc)[0]:#Indices of rows in the dataset that belong to the bicluster.\n",
    "            for j in DhillonCocluster.get_indices(nc)[1]:#Indices of columns in the dataset that belong to the bicluster.\n",
    "                reconstructed_matrix[i][j] = 1"
   ]
  },
  {
   "cell_type": "code",
   "execution_count": 10,
   "metadata": {},
   "outputs": [
    {
     "data": {
      "text/plain": [
       "Text(0.5, 1.05, 'Binary dataset for traditional methods')"
      ]
     },
     "execution_count": 10,
     "metadata": {},
     "output_type": "execute_result"
    },
    {
     "data": {
      "image/png": "[encoded data removed]",
      "text/plain": [
       "<Figure size 1008x576 with 2 Axes>"
      ]
     },
     "metadata": {
      "needs_background": "light"
     },
     "output_type": "display_data"
    }
   ],
   "source": [
    "fig , (ax1,ax2) = plt.subplots(1,2, figsize=(14,8))\n",
    "fig.figsize = (19,19)\n",
    "#plt.subplot(1,2,1)\n",
    "#plt.matshow(data, cmap=plt.cm.Blues)\n",
    "ax1.matshow(data, cmap=plt.cm.Blues,aspect=\"auto\")\n",
    "#plt.title(\"Binary dataset for co-clusters\")\n",
    "ax1.set_title(\"Binary dataset for co-clusters\")\n",
    "\n",
    "#plt.subplot(1,2,2)\n",
    "#plt.matshow(data2, cmap=plt.cm.Blues)\n",
    "ax2.matshow(reconstructed_matrix, cmap=plt.cm.Blues,aspect=\"auto\")\n",
    "#plt.title(\"Binary dataset for traditional methods\")\n",
    "ax2.set_title(\"Dhillon output\")"
   ]
  },
  {
   "cell_type": "markdown",
   "metadata": {},
   "source": [
    "### Support methods"
   ]
  },
  {
   "cell_type": "code",
   "execution_count": 36,
   "metadata": {},
   "outputs": [],
   "source": [
    "def check_result(columnClusters,rowClusters):\n",
    "    nc = len(columnClusters)\n",
    "    for i in range(nc):\n",
    "        num_objects = len(set(rowClusters[i]))\n",
    "        print(\"Cluster-\"+str(i+1)+\" (\"+str(num_objects)+\")\")\n",
    "        print(\"Atributos: \",end=\"\")\n",
    "        for ele in columnClusters[i]:\n",
    "            print(my_dict[int(ele)],end=\", \")\n",
    "\n",
    "        print(\"\\nSobreposição de OBJETOS em outros clusters.\")\n",
    "        for j in range(nc):\n",
    "            if i != j:\n",
    "                print(\"    Cluster \"+str(j+1)+\": \",end=\"\")\n",
    "#                 clusB = len(set(rowClusters[i]))\n",
    "                qtd_intersect = len(set(rowClusters[j]).intersection(set(rowClusters[i])))\n",
    "#                 overlap = ((num_objects-(num_objects-qtd_intersect))/len(set(rowClusters[i]).union(set(rowClusters[j]))))*100\n",
    "                overlap = ((num_objects-(num_objects-qtd_intersect))/num_objects)*100\n",
    "#                 overlap = ((cluSize-(cluSize-qtd_intersect)))*100\n",
    "                print(\"{0:.2f}% ({1:d})\".format(overlap,qtd_intersect))\n",
    "        print(\"\\n\")"
   ]
  },
  {
   "cell_type": "code",
   "execution_count": 5,
   "metadata": {
    "id": "FhmK3myQfY84"
   },
   "outputs": [],
   "source": [
    "def processDocument(file):\n",
    "    #print(\"Executing processDocument() method.\")\n",
    "    size_df = file.shape\n",
    "    uniqueP = []\n",
    "    uniqueT = []\n",
    "    pois_per_cluster = []\n",
    "    trajs_per_cluster = []\n",
    "    change = 0\n",
    "    \n",
    "    for i in range(size_df[0]):#number of transations\n",
    "        transationString = file.transation[i].split(' ')\n",
    "#         print(transationString)\n",
    "        pois = []\n",
    "        trajs = []\n",
    "        for j in range(len(transationString)):\n",
    "            try:\n",
    "                tmp = int(transationString[j])\n",
    "            except:\n",
    "                tmp = ''\n",
    "            \n",
    "            if change == 0:\n",
    "                if type(tmp) is int:\n",
    "                    if transationString[j] not in uniqueP:\n",
    "                        uniqueP.append(transationString[j])\n",
    "#                         if not pois: # empty\n",
    "                    pois.append(transationString[j])\n",
    "#                         print(transationString[j],end=\"|\")\n",
    "                else:\n",
    "    #                 print(\"NO\",end=\" | \")\n",
    "                    change = 1\n",
    "#                     print(\"\")\n",
    "            else:\n",
    "                if type(tmp) is int:\n",
    "                    if transationString[j] not in uniqueT:\n",
    "                        uniqueT.append(transationString[j])\n",
    "                    trajs.append(transationString[j])\n",
    "                else:\n",
    "    #                 print(\"NO\",end=\" | \")\n",
    "                    if change == 1:\n",
    "                        change = 2\n",
    "                        tmp = re.split('\\[| |\\]',transationString[j])\n",
    "                        #print(\"1-tmp:\"+str(tmp))\n",
    "                        if tmp[1] not in uniqueT:\n",
    "                            uniqueT.append(tmp[1])\n",
    "                        trajs.append(tmp[1])\n",
    "                    else:\n",
    "                        tmp = re.split('\\[| |\\]',transationString[j])\n",
    "                        #print(\"2-tmp:\"+str(tmp))\n",
    "                        if tmp[0] not in uniqueT:\n",
    "                            uniqueT.append(tmp[0])\n",
    "                        trajs.append(tmp[0])\n",
    "                        change = 0\n",
    "        pois_per_cluster.append(pois)\n",
    "        trajs_per_cluster.append(trajs)\n",
    "\n",
    "#     print('Number of unique elements: ',len(uniqueElements))\n",
    "#     print(\"P per Clusters: \"+str(pois_per_cluster))\n",
    "#     print(\"T per Clusters: \"+str(trajs_per_cluster))\n",
    "    return pois_per_cluster,trajs_per_cluster"
   ]
  }
 ],
 "metadata": {
  "colab": {
   "authorship_tag": "ABX9TyPNsa7FJlYOyi8nKkzIpu2Z",
   "collapsed_sections": [],
   "name": "dadosRS_binary_matrix_dictionary",
   "provenance": []
  },
  "kernelspec": {
   "display_name": "Python 3",
   "language": "python",
   "name": "python3"
  },
  "language_info": {
   "codemirror_mode": {
    "name": "ipython",
    "version": 3
   },
   "file_extension": ".py",
   "mimetype": "text/x-python",
   "name": "python",
   "nbconvert_exporter": "python",
   "pygments_lexer": "ipython3",
   "version": "3.7.1"
  }
 },
 "nbformat": 4,
 "nbformat_minor": 1
}
